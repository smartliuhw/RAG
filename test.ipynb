{
 "cells": [
  {
   "cell_type": "code",
   "execution_count": 7,
   "id": "initial_id",
   "metadata": {
    "collapsed": true
   },
   "outputs": [
    {
     "ename": "ImportError",
     "evalue": "cannot import name 'VectorStoreIndex' from 'llama_index.core' (unknown location)",
     "output_type": "error",
     "traceback": [
      "\u001b[0;31m---------------------------------------------------------------------------\u001b[0m",
      "\u001b[0;31mImportError\u001b[0m                               Traceback (most recent call last)",
      "Cell \u001b[0;32mIn[7], line 3\u001b[0m\n\u001b[1;32m      1\u001b[0m \u001b[38;5;28;01mimport\u001b[39;00m \u001b[38;5;21;01mos\u001b[39;00m\n\u001b[0;32m----> 3\u001b[0m \u001b[38;5;28;01mfrom\u001b[39;00m \u001b[38;5;21;01mllama_index\u001b[39;00m\u001b[38;5;21;01m.\u001b[39;00m\u001b[38;5;21;01mcore\u001b[39;00m \u001b[38;5;28;01mimport\u001b[39;00m VectorStoreIndex, SimpleDirectoryReader, ServiceContext\n\u001b[1;32m      4\u001b[0m \u001b[38;5;28;01mfrom\u001b[39;00m \u001b[38;5;21;01mllama_index\u001b[39;00m\u001b[38;5;21;01m.\u001b[39;00m\u001b[38;5;21;01mvector_stores\u001b[39;00m \u001b[38;5;28;01mimport\u001b[39;00m ChromaVectorStore\n\u001b[1;32m      5\u001b[0m \u001b[38;5;66;03m# from llama_index.storage.storage_context import StorageContexte\u001b[39;00m\n",
      "\u001b[0;31mImportError\u001b[0m: cannot import name 'VectorStoreIndex' from 'llama_index.core' (unknown location)"
     ]
    }
   ],
   "source": [
    "import os\n",
    "\n",
    "from llama_index.core import VectorStoreIndex, SimpleDirectoryReader, ServiceContext\n",
    "from llama_index.vector_stores import ChromaVectorStore\n",
    "# from llama_index.storage.storage_context import StorageContexte\n",
    "from llama_index.core import StorageContext\n",
    "from llama_index.embeddings import HuggingFaceEmbedding\n",
    "# from llama_index.text_splitter import SentenceSplitter\n",
    "# from llama_index.node_parser import SimpleNodeParser\n",
    "from llama_index.core.schema import TextNode, NodeRelationship, RelatedNodeInfo\n",
    "from IPython.display import Markdown, display\n",
    "import chromadb\n",
    "from tqdm import tqdm"
   ]
  },
  {
   "cell_type": "code",
   "execution_count": 4,
   "id": "51e5a851",
   "metadata": {},
   "outputs": [],
   "source": [
    "doc_dir_path = \"/data/knowledge_graph/freebase\"\n",
    "doc_name = {\n",
    "    \"kg\": \"freebase-rdf-latest\",\n",
    "    \"test\": \"freebase_test\",\n",
    "    \"json_test\": \"alpaca_data.json\",\n",
    "}\n",
    "\n",
    "model_path = \"/data/liuhanwen/models/bge-m3\"\n",
    "\n",
    "chroma_path = \"/data/liuhanwen/chroma\""
   ]
  },
  {
   "cell_type": "code",
   "execution_count": 15,
   "id": "f8812673",
   "metadata": {},
   "outputs": [
    {
     "name": "stderr",
     "output_type": "stream",
     "text": [
      "100%|██████████| 10000/10000 [00:00<00:00, 2073513.94it/s]"
     ]
    },
    {
     "name": "stdout",
     "output_type": "stream",
     "text": [
      "(astronomy.astronomical_observatory.discoveries, type.property.expected_type, astronomy.astronomical_discovery)END_OF_LINE\n",
      "\n"
     ]
    },
    {
     "name": "stderr",
     "output_type": "stream",
     "text": [
      "\n"
     ]
    }
   ],
   "source": [
    "with open(os.path.join(doc_dir_path, doc_name[\"test\"]), \"r\") as f:\n",
    "    lines = f.readlines()\n",
    "    \n",
    "for i in tqdm(range(len(lines))):\n",
    "    lines[i] = lines[i].strip() + \"END_OF_LINE\\n\"\n",
    "\n",
    "print(lines[10])\n",
    "\n",
    "with open(os.path.join(doc_dir_path, \"test2\"), \"w\") as f:\n",
    "    f.writelines(lines)"
   ]
  },
  {
   "cell_type": "code",
   "execution_count": 3,
   "id": "027cda81",
   "metadata": {},
   "outputs": [],
   "source": [
    "db = chromadb.PersistentClient(chroma_path)\n",
    "\n",
    "chroma_collection = db.get_or_create_collection(\"quick_test\")\n",
    "\n",
    "# embed_model = HuggingFaceEmbedding(model_path)\n",
    "\n",
    "documents = SimpleDirectoryReader(input_files=[os.path.join(doc_dir_path, doc_name[\"mid2name\"])]).load_data()"
   ]
  },
  {
   "cell_type": "code",
   "execution_count": 25,
   "metadata": {},
   "outputs": [
    {
     "name": "stdout",
     "output_type": "stream",
     "text": [
      "/ns/m.015fr>\t<http://www.w3.org/2002/07/owl#sameAs>\t<http://www.wikidata.org/entity/Q155> .\n",
      "<http://rdf.freebase.com/ns/m.09lxtg>\t<http://www.w3.org/2002/07/owl#sameAs>\t<http://www.wikidata.org/entity/Q754> .\n",
      "<http://rdf.freebase.com/ns/m.0165v>\t<http://www.w3.org/2002/07/owl#sameAs>\t<http://www.wikidata.org/entity/Q750> .\n",
      "<http://rdf.freebase.com/ns/m.05qc_>\t<http://www.w3.org/2002/07/owl#sameAs>\t<http://www.wikidata.org/entity/Q634> .\n",
      "<http://rdf.freebase.com/ns/m.0d05q4>\t<http://www.w3.org/2002/07/owl#sameAs>\t<http://www.wikidata.org/entity/Q796> .\n",
      "<http://rdf.freebase.com/ns/m.07r2x>\t<http://www.w3.org/2002/07/owl#sameAs>\t<http://www.wikidata.org/entity/Q8092> .\n",
      "<http://rdf.freebase.com/ns/m.0bt9lr>\t<http://www.w3.org/2002/07/owl#sameAs>\t<http://www.wikidata.org/entity/Q144> .\n",
      "<http://rdf.freebase.com/ns/m.0fpzwf>\t<http://www.w3.org/2002/07/owl#sameAs>\t<http://www.wikidata.org/entity/Q36091> .\n",
      "<http://rdf.freebase.com/ns/m.027rq1r>\t<http://www.w3.org/2002/07/owl#sameAs>\t<http://www.wikidata.org/entity/Q871> .\n",
      "<http://rdf.freebase.com/ns/m.018jz>\t<http://www.w3.org/2002/07/owl#sameAs>\t<http://www.wikidata.org/entity/Q5369> .\n",
      "<http://rdf.freebase.com/ns/m.01xpg>\t<http://www.w3.org/2002/07/owl#sameAs>\t<http://www.wikidata.org/entity/Q6343> .\n",
      "<http://rdf.freebase.com/ns/m.046mm>\t<http://www.w3.org/2002/07/owl#sameAs>\t<http://www.wikidata.org/entity/Q7226> .\n",
      "<http://rdf.freebase.com/ns/m.0g11nr>\t<http://www.w3.org/2002/07/owl#sameAs>\t<http://www.wikidata.org/entity/Q4156> .\n",
      "<http://rdf.freebase.com/ns/m.0c3qy>\t<http://www.w3.org/2002/07/owl#sameAs>\t<http://www.wikidata.org/entity/Q339> .\n",
      "<http://rdf.freebase.com/ns/m.05bdy>\t<http://www.w3.org/2002/07/owl#sameAs>\t<http://www.wikidata.org/entity/Q2348> .\n",
      "<http://rdf.freebase.com/ns/m.0jvq>\t<http://www.w3.org/2002/07/owl#sameAs>\t<http://www.wikidata.org/entity/Q3863> .\n",
      "<http://rdf.freebase.com/ns/m.02vx4>\t<http://www.w3.org/2002/07/owl#sameAs>\t<http://www.wikidata.org/entity/Q2736> .\n",
      "<http://rdf.freebase.com/ns/m.0dj6p>\t<http://www.w3.org/2002/07/owl#sameAs>\t<http://www.wikidata.org/entity/Q13189> .\n",
      "<http://rdf.freebase.com/ns/m.03154>\t<http://www.w3.org/2002/07/owl#sameAs>\t<http://www.wikidata.org/entity/Q764> .\n",
      "<http://rdf.freebase.com/ns/m.01z215>\t<http://www.w3.org/2002/07/owl#sameAs>\t<http://www.wikidata.org/entity/Q851> .\n",
      "<http://rdf.freebase.com/ns/m.03_lf>\t<http://www.w3.org/2002/07/owl#sameAs>\t<http://www.wikidata.org/entity/Q855> .\n",
      "<http://rdf.freebase.com/ns/m.04swd>\t<http://www.w3.org/2002/07/owl#sameAs>\t<http://www.wikidata.org/entity/Q649> .\n",
      "<http://rdf.freebase.com/ns/m.025s4ld>\t<http://www.w3.org/2002/07/owl#sameAs>\t<http://www.wikidata.org/entity/Q627> .\n",
      "<http://rdf.freebase.com/ns/m.01599>\t<http://www.w3.org/2002/07/owl#sameAs>\t<http://www.wikidata.org/entity/Q44> .\n",
      "<http://rdf.freebase.com/ns/m.05r4w>\t<http://www.w3.org/2002/07/owl#sameAs>\t<http://www.wikidata.org/entity/Q45> .\n",
      "<http://rdf.freebase.com/ns/m.08zr8s>\t<http://www.w3.org/2002/07/owl#sameAs>\t<http://www.wikidata.org/entity/Q1959> .\n",
      "<http://rdf.freebase.com/ns/m.05rznz>\t<http://www.w3.org/2002/07/owl#sameAs>\t<http://www.wikidata.org/entity/Q958> .\n",
      "<http://rdf.freebase.com/ns/m.01crd5>\t<http://www.w3.org/2002/07/owl#sameAs>\t<http://www.wikidata.org/entity/Q881> .\n",
      "<http://rdf.freebase.com/ns/m.0dl567>\t<http://www.w3.org/2002/07/owl#sameAs>\t<http://www.wikidata.org/entity/Q26876> .\n",
      "<http://rdf.freebase.com/ns/m.03cn0v>\t<http://www.w3.org/2002/07/owl#sameAs>\t<http://www.wikidata.org/entity/Q12495> .\n",
      "<http://rdf.freebase.com/ns/m.01p1v>\t<http://www.w3.org/2002/07/owl#sameAs>\t<http://www.wikidata.org/entity/Q298> .\n",
      "<http://rdf.freebase.com/ns/m.04swx>\t<http://www.w3.org/2002/07/owl#sameAs>\t<http://www.wikidata.org/entity/Q4918> .\n",
      "<http://rdf.freebase.com/ns/m.04yd_>\t<http://www.w3.org/2002/07/owl#sameAs>\t<http://www.wikidata.org/entity/Q9554> .\n",
      "<http://rdf.freebase.com/ns/m.088q4>\t<http://www.w3.org/2002/07/owl#sameAs>\t<http://www.wikidata.org/entity/Q954> .\n",
      "<http://rdf.freebase.com/ns/m.01914>\t<http://www.w3.org/2002/07/owl#sameAs>\t<http://www.wikidata.org/entity/Q956> .\n",
      "<http://rdf.freebase.com/ns/m.01mjq>\t<http://www.w3.org/2002/07/owl#sameAs>\t<http://www.wikidata.org/entity/Q213> .\n",
      "<http://rdf.freebase.com/ns/m.06c1y>\t<http://www.w3.org/2002/07/owl#sameAs>\t<http://www.wikidata.org/entity/Q218> .\n",
      "<http://rdf.freebase.com/ns/m.015j7>\t<http://www.w3.org/2002/07/owl#sameAs>\t<http://www.wikidata.org/entity/Q1845> .\n",
      "<http://rdf.freebase.com/ns/m.05sb1>\t<http://www.w3.org/2002/07/owl#sameAs>\t<http://www.wikidata.org/entity/Q843> .\n",
      "<http://rdf.freebase.com/ns/m.025svlc>\t<http://www.w3.org/2002/07/owl#sameAs>\t<http://www.wikidata.org/entity/Q618> .\n",
      "<http://rdf.freebase.com/ns/m.01ly5m>\t<http://www.w3.org/2002/07/owl#sameAs>\t<http://www.wikidata.org/entity/Q1486> .\n",
      "<http://rdf.freebase.com/ns/m.01s5q>\t<http://www.w3.org/2002/07/owl#sameAs>\t<http://www.wikidata.org/entity/Q8454> .\n",
      "<http://rdf.freebase.com/ns/m.06wjf>\t<http://www.w3.org/2002/07/owl#sameAs>\t<http://www.wikidata.org/entity/Q8686> \n"
     ]
    }
   ],
   "source": [
    "print(documents[0].text[10000: 15000])"
   ]
  },
  {
   "cell_type": "code",
   "execution_count": null,
   "id": "063e2323",
   "metadata": {},
   "outputs": [],
   "source": []
  }
 ],
 "metadata": {
  "kernelspec": {
   "display_name": "Python 3",
   "language": "python",
   "name": "python3"
  },
  "language_info": {
   "codemirror_mode": {
    "name": "ipython",
    "version": 3
   },
   "file_extension": ".py",
   "mimetype": "text/x-python",
   "name": "python",
   "nbconvert_exporter": "python",
   "pygments_lexer": "ipython3",
   "version": "3.10.13"
  }
 },
 "nbformat": 4,
 "nbformat_minor": 5
}
